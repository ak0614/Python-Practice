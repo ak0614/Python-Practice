{
 "cells": [
  {
   "cell_type": "code",
   "execution_count": 1,
   "metadata": {},
   "outputs": [
    {
     "name": "stdout",
     "output_type": "stream",
     "text": [
      "Hello World!\n"
     ]
    }
   ],
   "source": [
    "print(\"Hello World!\")"
   ]
  },
  {
   "cell_type": "code",
   "execution_count": 2,
   "metadata": {},
   "outputs": [
    {
     "name": "stdout",
     "output_type": "stream",
     "text": [
      "<class 'int'>\n"
     ]
    }
   ],
   "source": [
    "a=10\n",
    "print(type(a))"
   ]
  },
  {
   "cell_type": "code",
   "execution_count": 3,
   "metadata": {},
   "outputs": [
    {
     "name": "stdout",
     "output_type": "stream",
     "text": [
      "10\n",
      "20\n",
      "30\n"
     ]
    }
   ],
   "source": [
    "a=int(input())\n",
    "b=int(input())\n",
    "print(a+b)"
   ]
  },
  {
   "cell_type": "code",
   "execution_count": 4,
   "metadata": {},
   "outputs": [
    {
     "name": "stdout",
     "output_type": "stream",
     "text": [
      "1234\n",
      "Recursive sum= 1\n"
     ]
    }
   ],
   "source": [
    "a=int(input())\n",
    "if(a%9==0):\n",
    "    print(\"Recursive sum=9\")\n",
    "else:\n",
    "    print(\"Recursive sum=\",a%9)"
   ]
  },
  {
   "cell_type": "code",
   "execution_count": 5,
   "metadata": {},
   "outputs": [
    {
     "name": "stdout",
     "output_type": "stream",
     "text": [
      "3 10\n"
     ]
    }
   ],
   "source": [
    "a=100\n",
    "p=30\n",
    "print(a//p,a%p)"
   ]
  },
  {
   "cell_type": "code",
   "execution_count": 6,
   "metadata": {},
   "outputs": [
    {
     "data": {
      "text/plain": [
       "32"
      ]
     },
     "execution_count": 6,
     "metadata": {},
     "output_type": "execute_result"
    }
   ],
   "source": [
    "2**5"
   ]
  },
  {
   "cell_type": "code",
   "execution_count": 7,
   "metadata": {},
   "outputs": [
    {
     "data": {
      "text/plain": [
       "3"
      ]
     },
     "execution_count": 7,
     "metadata": {},
     "output_type": "execute_result"
    }
   ],
   "source": [
    "2|3"
   ]
  },
  {
   "cell_type": "code",
   "execution_count": 8,
   "metadata": {},
   "outputs": [
    {
     "data": {
      "text/plain": [
       "2"
      ]
     },
     "execution_count": 8,
     "metadata": {},
     "output_type": "execute_result"
    }
   ],
   "source": [
    "2&3"
   ]
  },
  {
   "cell_type": "code",
   "execution_count": 9,
   "metadata": {},
   "outputs": [
    {
     "name": "stdout",
     "output_type": "stream",
     "text": [
      "2\n",
      "7\n"
     ]
    },
    {
     "data": {
      "text/plain": [
       "14"
      ]
     },
     "execution_count": 9,
     "metadata": {},
     "output_type": "execute_result"
    }
   ],
   "source": [
    "a=int(input())\n",
    "b=int(input())\n",
    "a*b"
   ]
  },
  {
   "cell_type": "code",
   "execution_count": 10,
   "metadata": {},
   "outputs": [
    {
     "name": "stdout",
     "output_type": "stream",
     "text": [
      "20\n",
      "10\n",
      "200\n"
     ]
    }
   ],
   "source": [
    "#Russian Peasant\n",
    "a=int(input())\n",
    "b=int(input())\n",
    "suming=0\n",
    "while(b!=0):\n",
    "    if(b%2==1):\n",
    "        suming+=a\n",
    "    a*=2\n",
    "    b=b//2\n",
    "print(suming)"
   ]
  },
  {
   "cell_type": "markdown",
   "metadata": {},
   "source": [
    "# String"
   ]
  },
  {
   "cell_type": "code",
   "execution_count": 11,
   "metadata": {},
   "outputs": [
    {
     "name": "stdout",
     "output_type": "stream",
     "text": [
      "Kamal <class 'str'>\n",
      "K\n",
      "l\n",
      "Kam Kam Kamal\n",
      "Kml\n",
      "lamaK\n",
      "lmK\n",
      "amaK\n"
     ]
    }
   ],
   "source": [
    "s='Kamal'\n",
    "print(s,type(s))\n",
    "print(s[0])\n",
    "print(s[-1])\n",
    "print(s[0:3],s[:3],s[:])\n",
    "print(s[::2])\n",
    "print(s[::-1])\n",
    "print(s[::-2])\n",
    "print(s[3::-1])"
   ]
  },
  {
   "cell_type": "code",
   "execution_count": 12,
   "metadata": {},
   "outputs": [
    {
     "name": "stdout",
     "output_type": "stream",
     "text": [
      "9\n",
      "\n",
      "*\n",
      "**\n",
      "***\n",
      "****\n",
      "*****\n",
      "******\n",
      "*******\n",
      "********\n",
      "*********\n"
     ]
    }
   ],
   "source": [
    "a=int(input())\n",
    "ast=\"*\"\n",
    "for i in range(0,a+1):\n",
    "    print(i*ast)"
   ]
  },
  {
   "cell_type": "code",
   "execution_count": 13,
   "metadata": {},
   "outputs": [
    {
     "name": "stdout",
     "output_type": "stream",
     "text": [
      "4\n",
      "****\n",
      "***\n",
      "**\n",
      "*\n",
      "\n"
     ]
    }
   ],
   "source": [
    "a=int(input())\n",
    "ast=\"*\"\n",
    "for i in range(a,-1,-1):\n",
    "    print(i*ast)"
   ]
  },
  {
   "cell_type": "markdown",
   "metadata": {},
   "source": [
    "# List"
   ]
  },
  {
   "cell_type": "code",
   "execution_count": 14,
   "metadata": {},
   "outputs": [
    {
     "name": "stdout",
     "output_type": "stream",
     "text": [
      "[0, 2, 4, 6, 8, 10, 12, 14, 16, 18, 20] <class 'list'>\n",
      "0\n",
      "20\n",
      "[0, 2, 4] [0, 2, 4] [0, 2, 4, 6, 8, 10, 12, 14, 16, 18, 20]\n",
      "[0, 4, 8, 12, 16, 20]\n",
      "[20, 18, 16, 14, 12, 10, 8, 6, 4, 2, 0]\n",
      "[20, 16, 12, 8, 4, 0]\n",
      "[6, 4, 2, 0]\n"
     ]
    }
   ],
   "source": [
    "s=[0,2,4,6,8,10,12,14,16,18,20]\n",
    "print(s,type(s))\n",
    "print(s[0])\n",
    "print(s[-1])\n",
    "print(s[0:3],s[:3],s[:])\n",
    "print(s[::2])\n",
    "print(s[::-1])\n",
    "print(s[::-2])\n",
    "print(s[3::-1])"
   ]
  },
  {
   "cell_type": "code",
   "execution_count": 15,
   "metadata": {},
   "outputs": [
    {
     "name": "stdout",
     "output_type": "stream",
     "text": [
      "5\n",
      "[10, 20, 30, 40, 50]\n"
     ]
    }
   ],
   "source": [
    "l=list()\n",
    "n=int(input())\n",
    "for i in range(1,n+1):\n",
    "    l.append(i*10)\n",
    "print(l)"
   ]
  },
  {
   "cell_type": "code",
   "execution_count": 16,
   "metadata": {},
   "outputs": [
    {
     "name": "stdout",
     "output_type": "stream",
     "text": [
      "[10, 20, 30, 1, 2, 3]\n"
     ]
    }
   ],
   "source": [
    "#Replace 1 element with many elements\n",
    "l1=[10,20,30,40,50]\n",
    "l2=[1,2,3]\n",
    "l1[3:]=l2\n",
    "print(l1)"
   ]
  },
  {
   "cell_type": "code",
   "execution_count": 17,
   "metadata": {},
   "outputs": [
    {
     "name": "stdout",
     "output_type": "stream",
     "text": [
      "[10, 20, 30, 40, 1, 2, 3, 50]\n"
     ]
    }
   ],
   "source": [
    "l1=[10,20,30,40,50]\n",
    "l2=[1,2,3]\n",
    "l1[4:4]=l2\n",
    "print(l1)"
   ]
  },
  {
   "cell_type": "markdown",
   "metadata": {},
   "source": [
    "# Tuple"
   ]
  },
  {
   "cell_type": "code",
   "execution_count": 18,
   "metadata": {},
   "outputs": [
    {
     "name": "stdout",
     "output_type": "stream",
     "text": [
      "(10, 20, 30, 40, 50, 1, 2, 3)\n"
     ]
    }
   ],
   "source": [
    "l1=(10,20,30,40,50)\n",
    "l2=(1,2,3)\n",
    "print(l1+l2)"
   ]
  },
  {
   "cell_type": "markdown",
   "metadata": {},
   "source": [
    "# Control Statement"
   ]
  },
  {
   "cell_type": "code",
   "execution_count": 19,
   "metadata": {},
   "outputs": [
    {
     "name": "stdout",
     "output_type": "stream",
     "text": [
      "1587\n",
      "1588\n",
      "1588 is the maximum\n"
     ]
    }
   ],
   "source": [
    "a,b=int(input()),int(input())\n",
    "maxinum=a if a>b else b\n",
    "print(maxinum,\"is the maximum\")"
   ]
  },
  {
   "cell_type": "code",
   "execution_count": 21,
   "metadata": {},
   "outputs": [
    {
     "name": "stdout",
     "output_type": "stream",
     "text": [
      "100\n",
      "47\n",
      "95\n",
      "Scalene triangle\n"
     ]
    }
   ],
   "source": [
    "a,b,c=float(input()),float(input()),float(input())\n",
    "if(a==b==c):\n",
    "    print(\"Equilateral triangle\")\n",
    "elif(a==b or b==c or a==c):\n",
    "    print(\"Isoceles triangle\")\n",
    "else:\n",
    "    print(\"Scalene triangle\")"
   ]
  },
  {
   "cell_type": "code",
   "execution_count": 22,
   "metadata": {},
   "outputs": [
    {
     "name": "stdout",
     "output_type": "stream",
     "text": [
      "1 2 3 4 5 6 7 8 9 10 \n",
      "2 4 6 8 10 12 14 16 18 20 \n",
      "3 6 9 12 15 18 21 24 27 30 \n",
      "4 8 12 16 20 24 28 32 36 40 \n",
      "5 10 15 20 25 30 35 40 45 50 \n"
     ]
    }
   ],
   "source": [
    "n = 5\n",
    "for i in range(1,n+1):\n",
    "    for j in range(1,11):\n",
    "        print(i*j,end=' ')\n",
    "    print()"
   ]
  },
  {
   "cell_type": "code",
   "execution_count": 23,
   "metadata": {},
   "outputs": [
    {
     "name": "stdout",
     "output_type": "stream",
     "text": [
      "8\n",
      "1\n",
      "0\n",
      "1\n",
      "0\n",
      "1\n",
      "0\n",
      "1\n",
      "1\n",
      "0\n",
      "1\n",
      "0\n",
      "1\n",
      "0\n",
      "1\n",
      "1\n",
      "0\n",
      "1\n",
      "0\n",
      "1\n",
      "0\n",
      "1\n",
      "1\n",
      "0\n",
      "1\n",
      "0\n",
      "1\n",
      "0\n",
      "1\n",
      "1\n",
      "0\n",
      "1\n",
      "0\n",
      "1\n",
      "0\n",
      "1\n",
      "1\n",
      "0\n",
      "1\n",
      "0\n",
      "1\n",
      "0\n",
      "1\n",
      "1\n",
      "0\n",
      "1\n",
      "0\n",
      "1\n",
      "0\n",
      "1\n",
      "1\n",
      "0\n",
      "1\n",
      "0\n",
      "1\n",
      "0\n",
      "1\n"
     ]
    }
   ],
   "source": [
    "n=int(input())\n",
    "for i in range(1,n+1):\n",
    "    for j in range(1,n):\n",
    "        if(j%2==0):\n",
    "            print('0')\n",
    "        else:\n",
    "            print('1')"
   ]
  },
  {
   "cell_type": "code",
   "execution_count": 24,
   "metadata": {},
   "outputs": [
    {
     "name": "stdout",
     "output_type": "stream",
     "text": [
      "3\n",
      "1\n",
      "01\n",
      "101\n"
     ]
    }
   ],
   "source": [
    "n=int(input())\n",
    "s=''\n",
    "for i in range(n):\n",
    "    if i%2==0:\n",
    "        s+='1'\n",
    "    else:\n",
    "        s+='0'\n",
    "    print(s[::-1])"
   ]
  },
  {
   "cell_type": "code",
   "execution_count": 25,
   "metadata": {},
   "outputs": [
    {
     "name": "stdout",
     "output_type": "stream",
     "text": [
      "Even\n"
     ]
    }
   ],
   "source": [
    "l=[2,4,6,8,10,12]\n",
    "for i in l:\n",
    "    if(i%2==1):\n",
    "        print(\"Odd\")\n",
    "        break\n",
    "else:\n",
    "    print(\"Even\")"
   ]
  },
  {
   "cell_type": "code",
   "execution_count": 26,
   "metadata": {},
   "outputs": [
    {
     "name": "stdout",
     "output_type": "stream",
     "text": [
      "[1,3,5,7,9]\n",
      "Odd\n"
     ]
    }
   ],
   "source": [
    "l=eval(input())\n",
    "for i in l:\n",
    "    if (i%2==0):\n",
    "        print(\"Even\")\n",
    "        break\n",
    "else:\n",
    "    print(\"Odd\")"
   ]
  },
  {
   "cell_type": "code",
   "execution_count": 27,
   "metadata": {},
   "outputs": [
    {
     "name": "stdout",
     "output_type": "stream",
     "text": [
      "7\n",
      "Prime number\n"
     ]
    }
   ],
   "source": [
    "n=int(input())\n",
    "for i in range(2,n):\n",
    "    if (n%i==0):\n",
    "        print(\"Composite number\")\n",
    "        break\n",
    "else:\n",
    "    print(\"Prime number\")"
   ]
  },
  {
   "cell_type": "code",
   "execution_count": 28,
   "metadata": {},
   "outputs": [
    {
     "name": "stdout",
     "output_type": "stream",
     "text": [
      "6\n",
      "[7, 14, 21, 28, 35, 42]\n"
     ]
    }
   ],
   "source": [
    "n=int(input())\n",
    "l=[7*x for x in range(1,n+1)]\n",
    "print(l)"
   ]
  },
  {
   "cell_type": "code",
   "execution_count": 29,
   "metadata": {},
   "outputs": [
    {
     "name": "stdout",
     "output_type": "stream",
     "text": [
      "1 2 3 4 5\n",
      "[1, 2, 3, 4, 5]\n"
     ]
    }
   ],
   "source": [
    "l=[int(x) for x in input().split()]\n",
    "print(l)"
   ]
  },
  {
   "cell_type": "code",
   "execution_count": 31,
   "metadata": {},
   "outputs": [
    {
     "name": "stdout",
     "output_type": "stream",
     "text": [
      "[21, 78, 33]\n"
     ]
    }
   ],
   "source": [
    "l=[23,21,78,33,11]\n",
    "l2=[]\n",
    "for i in l:\n",
    "    if(i%3==0):\n",
    "        l2.append(i)\n",
    "print(l2)"
   ]
  },
  {
   "cell_type": "code",
   "execution_count": 32,
   "metadata": {},
   "outputs": [
    {
     "data": {
      "text/plain": [
       "[21, 78, 33]"
      ]
     },
     "execution_count": 32,
     "metadata": {},
     "output_type": "execute_result"
    }
   ],
   "source": [
    "l=[23,21,78,33,11]\n",
    "l2=[x for x in l if(x%3==0)]\n",
    "l2"
   ]
  },
  {
   "cell_type": "code",
   "execution_count": 33,
   "metadata": {},
   "outputs": [
    {
     "name": "stdout",
     "output_type": "stream",
     "text": [
      "[[1, 2, 3], [4, 5, 6], [7, 8, 9]]\n"
     ]
    }
   ],
   "source": [
    "n=3\n",
    "l=[[i*n+x for x in range(1,n+1)] for i in range(n)]\n",
    "print(l)"
   ]
  },
  {
   "cell_type": "code",
   "execution_count": 34,
   "metadata": {},
   "outputs": [
    {
     "name": "stdout",
     "output_type": "stream",
     "text": [
      "[1, 2, 3, 4, 5, 6, 7, 8, 9]\n"
     ]
    }
   ],
   "source": [
    "import itertools as it\n",
    "l=[[1,2,3],[4,5],[6,7,8,9]]\n",
    "l2=list(it.chain.from_iterable(l))\n",
    "print(l2)"
   ]
  }
 ],
 "metadata": {
  "kernelspec": {
   "display_name": "Python 3",
   "language": "python",
   "name": "python3"
  },
  "language_info": {
   "codemirror_mode": {
    "name": "ipython",
    "version": 3
   },
   "file_extension": ".py",
   "mimetype": "text/x-python",
   "name": "python",
   "nbconvert_exporter": "python",
   "pygments_lexer": "ipython3",
   "version": "3.8.3"
  }
 },
 "nbformat": 4,
 "nbformat_minor": 4
}
