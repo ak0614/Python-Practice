{
 "cells": [
  {
   "cell_type": "code",
   "execution_count": 1,
   "metadata": {},
   "outputs": [
    {
     "name": "stdout",
     "output_type": "stream",
     "text": [
      "2\n",
      "5 4\n",
      "1\n",
      "15 6\n",
      "9\n"
     ]
    }
   ],
   "source": [
    "n=int(input())\n",
    "for i in range(n):\n",
    "    b,a=map(int,input().split())\n",
    "    print(b-a)"
   ]
  },
  {
   "cell_type": "code",
   "execution_count": 2,
   "metadata": {},
   "outputs": [
    {
     "name": "stdout",
     "output_type": "stream",
     "text": [
      "4\n",
      "2 3 4\n",
      "YES\n",
      "1 2 2\n",
      "NO\n",
      "2 2 2\n",
      "NO\n",
      "3 5 6\n",
      "YES\n"
     ]
    }
   ],
   "source": [
    "n=int(input())\n",
    "for i in range(n):\n",
    "    c,b,a=map(int,input().split())\n",
    "    if(a==c or b==c or a==b):\n",
    "        print(\"NO\")\n",
    "    else:\n",
    "        print(\"YES\")"
   ]
  },
  {
   "cell_type": "code",
   "execution_count": 3,
   "metadata": {},
   "outputs": [
    {
     "name": "stdout",
     "output_type": "stream",
     "text": [
      "4\n",
      "1 5\n",
      "2\n",
      "2 6\n",
      "3\n",
      "4 3\n",
      "3\n",
      "3 5\n",
      "4\n"
     ]
    }
   ],
   "source": [
    "n=int(input())\n",
    "pcs=0\n",
    "for i in range(n):\n",
    "    b,a=map(int,input().split())\n",
    "    pcs=b*a//4\n",
    "    if (b*a%4==0):\n",
    "        print(pcs)\n",
    "    else:\n",
    "        print(pcs+1)"
   ]
  },
  {
   "cell_type": "code",
   "execution_count": 4,
   "metadata": {},
   "outputs": [
    {
     "name": "stdout",
     "output_type": "stream",
     "text": [
      "4\n",
      "30 35 25\n",
      "YES\n",
      "30 35 40\n",
      "NO\n",
      "30 35 35\n",
      "YES\n",
      "30 25 35\n",
      "NO\n"
     ]
    }
   ],
   "source": [
    "n=int(input())\n",
    "for i in range(n):\n",
    "    c,b,a=map(int,input().split())\n",
    "    if(b>=a and c<=b):\n",
    "        print(\"YES\")\n",
    "    else:\n",
    "        print(\"NO\")"
   ]
  },
  {
   "cell_type": "code",
   "execution_count": 5,
   "metadata": {},
   "outputs": [
    {
     "name": "stdout",
     "output_type": "stream",
     "text": [
      "2\n",
      "1 10\n",
      "3\n",
      "11 33\n",
      "8\n"
     ]
    }
   ],
   "source": [
    "n=int(input())\n",
    "sum=0\n",
    "for i in range(n):\n",
    "    b,a=map(int,input().split())\n",
    "    for j in range(b,a+1):\n",
    "        if(j%10==2 or j%10==3 or j%10==9):\n",
    "            sum+=1\n",
    "    print(sum)\n",
    "    sum=0"
   ]
  },
  {
   "cell_type": "code",
   "execution_count": 6,
   "metadata": {},
   "outputs": [
    {
     "name": "stdout",
     "output_type": "stream",
     "text": [
      "2\n",
      "3 3\n",
      "Yes\n",
      "1 2\n",
      "NO\n"
     ]
    }
   ],
   "source": [
    "n=int(input())\n",
    "for i in range(n):\n",
    "    b,a=map(int,input().split())\n",
    "    if(b==a):\n",
    "        print(\"Yes\")\n",
    "    elif (abs(b-a))%2==0: print(\"Yes\")\n",
    "    else: print(\"NO\")"
   ]
  },
  {
   "cell_type": "code",
   "execution_count": 7,
   "metadata": {},
   "outputs": [
    {
     "name": "stdout",
     "output_type": "stream",
     "text": [
      "3\n",
      "4 5\n",
      "3.0 6.4031\n",
      "10 12\n",
      "6.6332 15.6205\n",
      "10 20\n",
      "17.3205 22.3607\n"
     ]
    }
   ],
   "source": [
    "import math\n",
    "for _ in range(int(input())):\n",
    "    b,ls=map(int,input().split())\n",
    "    c=math.pow(b,2)\n",
    "    d=math.pow(ls,2)\n",
    "    rsM=math.sqrt(c+d);\n",
    "    rsm=math.sqrt(abs(c-d))\n",
    "    print(round(rsm,4),round(rsM,4))"
   ]
  },
  {
   "cell_type": "code",
   "execution_count": 8,
   "metadata": {},
   "outputs": [
    {
     "name": "stdout",
     "output_type": "stream",
     "text": [
      "3\n",
      "2 10 3\n",
      "No\n",
      "2 10 4\n",
      "Yes\n",
      "1 5 10\n",
      "Yes\n"
     ]
    }
   ],
   "source": [
    "n=int(input())\n",
    "for i in range(n):\n",
    "    n, x, y = map(int, input().split())\n",
    "    print(\"Yes\" if (n + 1) * y >= x else \"No\")"
   ]
  },
  {
   "cell_type": "code",
   "execution_count": 10,
   "metadata": {},
   "outputs": [
    {
     "name": "stdout",
     "output_type": "stream",
     "text": [
      "4\n",
      "5 0\n",
      "0\n",
      "4 2\n",
      "2\n",
      "3 3\n",
      "0\n",
      "10 2\n",
      "2\n"
     ]
    }
   ],
   "source": [
    "n=int(input())\n",
    "for i in range(n):\n",
    "    a,b=map(int,input().split())\n",
    "    print(min(b,a-b))"
   ]
  },
  {
   "cell_type": "code",
   "execution_count": 11,
   "metadata": {},
   "outputs": [
    {
     "name": "stdout",
     "output_type": "stream",
     "text": [
      "4\n",
      "1 2 3\n",
      "YES\n",
      "8 4 6\n",
      "NO\n",
      "3 3 9\n",
      "NO\n",
      "7 8 6\n",
      "YES\n"
     ]
    }
   ],
   "source": [
    "n=int(input())\n",
    "d=0\n",
    "e=0\n",
    "f=0\n",
    "for i in range(n):\n",
    "    a,b,c=map(int,input().split())\n",
    "    d=a+b\n",
    "    e=b+c\n",
    "    f=a+c\n",
    "    if((d%2==1 or e%2==1 or f%2==1)):\n",
    "        print(\"YES\")\n",
    "    else:\n",
    "        print(\"NO\")"
   ]
  },
  {
   "cell_type": "code",
   "execution_count": 12,
   "metadata": {},
   "outputs": [
    {
     "name": "stdout",
     "output_type": "stream",
     "text": [
      "4\n",
      "3\n",
      "1 9 8\n",
      "0\n",
      "4\n",
      "2 -1 9 100\n",
      "1\n",
      "4\n",
      "2 -1 0 100\n",
      "0\n",
      "4\n",
      "2 -1 -1 100\n",
      "0\n"
     ]
    }
   ],
   "source": [
    "for i in range(int(input())):\n",
    "        n=int(input())\n",
    "        k=list(map(int,input().split()))\n",
    "        l=[]\n",
    "        if 0 in k:\n",
    "                print(0)\n",
    "        else:\n",
    "                for i in k:\n",
    "                        if i<0:\n",
    "                                l.append(i)\n",
    "                print(0) if (len(l))%2==0 else print(1)"
   ]
  },
  {
   "cell_type": "code",
   "execution_count": 13,
   "metadata": {},
   "outputs": [
    {
     "name": "stdout",
     "output_type": "stream",
     "text": [
      "2\n",
      "4\n",
      "1 3 5 7\n",
      "0\n",
      "3\n",
      "1 2 3\n",
      "1\n"
     ]
    }
   ],
   "source": [
    "t=int(input())\n",
    "for i in range(t):\n",
    "    n=int(input())\n",
    "    count=0\n",
    "    a=list(map(int,input().split()))\n",
    "    a1=len(a)\n",
    "    for i in a:\n",
    "        if i%2==0:\n",
    "            count=count+1\n",
    "    if count==a1 or count==0:\n",
    "        print(0)\n",
    "        \n",
    "    else:\n",
    "        print(count)"
   ]
  },
  {
   "cell_type": "code",
   "execution_count": 14,
   "metadata": {},
   "outputs": [
    {
     "name": "stdout",
     "output_type": "stream",
     "text": [
      "5\n",
      "3\n",
      "800 1200 900\n",
      "1\n",
      "4\n",
      "999 1000 1001 1002\n",
      "3\n",
      "5\n",
      "1 2 2 2 5000\n",
      "1\n",
      "5\n",
      "1000 1000 1000 1000 1000\n",
      "5\n",
      "3\n",
      "900 700 800\n",
      "0\n"
     ]
    }
   ],
   "source": [
    "n=int(input())\n",
    "flag=0\n",
    "for i in range(n):\n",
    "    c=int(input())\n",
    "    l=[int(x) for x in input().split()]\n",
    "    for c in l:\n",
    "        if (c>=1000):\n",
    "            flag+=1\n",
    "    print(flag)\n",
    "    flag=0"
   ]
  },
  {
   "cell_type": "code",
   "execution_count": 15,
   "metadata": {},
   "outputs": [
    {
     "name": "stdout",
     "output_type": "stream",
     "text": [
      "3\n",
      "7\n",
      "1 1 1 3 3 3 2\n",
      "4\n",
      "5\n",
      "1 3 1 1 1\n",
      "3\n",
      "4\n",
      "5 5 5 5\n",
      "0\n"
     ]
    }
   ],
   "source": [
    "for i in range (int(input())):\n",
    "    n = int(input())\n",
    "    array= [ int(i) for i in input().split()]\n",
    "    count = 0\n",
    "    for j in range (0,n):\n",
    "        if j> 0 and j < (n-1):\n",
    "            if array[j] == array [j-1] == array[j+1]:\n",
    "                count = count\n",
    "            else:\n",
    "                count = count+1\n",
    "        elif j==(n-1):\n",
    "            if array[j] == array[j-1]:\n",
    "                count = count\n",
    "            else:\n",
    "                count = count+1\n",
    "        elif j==0:\n",
    "            if array[j]==array [j+1]:\n",
    "                count= count\n",
    "            else:\n",
    "                count = count +1\n",
    "    print (count)"
   ]
  },
  {
   "cell_type": "code",
   "execution_count": 16,
   "metadata": {},
   "outputs": [
    {
     "name": "stdout",
     "output_type": "stream",
     "text": [
      "3\n",
      "6\n",
      "101011\n",
      "YES\n",
      "2\n",
      "01\n",
      "NO\n",
      "7\n",
      "1110000\n",
      "YES\n"
     ]
    }
   ],
   "source": [
    "t=int(input())\n",
    "for i in range(t):\n",
    "    n=int(input())\n",
    "    s=input()\n",
    "    a=0\n",
    "    b=0\n",
    "    for i in s:\n",
    "        if i==\"0\":\n",
    "            a+=1\n",
    "        if i==\"1\":\n",
    "            b+=1\n",
    "    if a%2==0 or b%2==0:\n",
    "        print(\"YES\")\n",
    "    else:\n",
    "        print(\"NO\")"
   ]
  },
  {
   "cell_type": "code",
   "execution_count": 17,
   "metadata": {},
   "outputs": [
    {
     "name": "stdout",
     "output_type": "stream",
     "text": [
      "2\n",
      "1 2 3 4 5 6 7 8 9 10 11 12 13 14 15 16 17 18 19 20 21 22 23 24 25 26\n",
      "abcdefghijklmopqrstuvwz\n",
      "63\n",
      "1 2 3 4 5 6 7 8 9 10 11 12 13 14 15 16 17 18 19 20 21 22 23 24 25 26\n",
      "thequickbrownfoxjumpsoverthelazydog\n",
      "0\n"
     ]
    }
   ],
   "source": [
    "for i in range(int(input())):\n",
    "    p=list(map(int,input().split()))\n",
    "    a=input()\n",
    "    s=0\n",
    "    l=['a','b','c','d','e','f','g','h','i','j','k','l','m','n','o','p','q','r','s','t','u','v','w','x','y','z']\n",
    "    for i in range(len(l)):\n",
    "        if l[i] not in a:\n",
    "            s+=p[i]\n",
    "    print(s)"
   ]
  },
  {
   "cell_type": "code",
   "execution_count": 20,
   "metadata": {},
   "outputs": [
    {
     "name": "stdout",
     "output_type": "stream",
     "text": [
      "3\n",
      "ABCDE\n",
      "EDCBA\n",
      "BBGBB\n",
      "ROUND\n",
      "RINGS\n",
      "GBBBB\n",
      "START\n",
      "STUNT\n",
      "GGBBG\n"
     ]
    }
   ],
   "source": [
    "n=int(input())\n",
    "def compare():\n",
    "    x=[i for i in input()]\n",
    "    y=[i for i in input()]\n",
    "    for i in range(0,5):\n",
    "        if (x[i]==y[i]):\n",
    "            print('G',end='')\n",
    "        else:\n",
    "            print('B',end='')\n",
    "    print()\n",
    "    return\n",
    "for i in range(n):\n",
    "    compare()"
   ]
  },
  {
   "cell_type": "code",
   "execution_count": 21,
   "metadata": {},
   "outputs": [
    {
     "name": "stdout",
     "output_type": "stream",
     "text": [
      "3\n",
      "2\n",
      "11\n",
      "1\n",
      "4\n",
      "0101\n",
      "0\n",
      "5\n",
      "00100\n",
      "2\n"
     ]
    }
   ],
   "source": [
    "n=int(input())\n",
    "def geting():\n",
    "    x=int(input())\n",
    "    count=0\n",
    "    l1=input()\n",
    "    for z in range(x-1):\n",
    "        if (l1[z]==l1[z+1]):\n",
    "            count+=1\n",
    "    print(count)\n",
    "    count=0\n",
    "    return\n",
    "for i in range(n):\n",
    "    geting()"
   ]
  },
  {
   "cell_type": "code",
   "execution_count": 22,
   "metadata": {},
   "outputs": [
    {
     "name": "stdout",
     "output_type": "stream",
     "text": [
      "4\n",
      "1\n",
      "5\n",
      "1\n",
      "2\n",
      "1 1\n",
      "1\n",
      "3\n",
      "1 2 3\n",
      "3\n",
      "4\n",
      "2 1 2 2\n",
      "3\n"
     ]
    }
   ],
   "source": [
    "for i in range(int(input())):\n",
    "    n=int(input())\n",
    "    a=list(map(int,input().split()))\n",
    "    m=1\n",
    "    for j in range(0,n-1):\n",
    "        if a[j]!=a[j+1]:\n",
    "            m+=1\n",
    "    print(m)"
   ]
  },
  {
   "cell_type": "code",
   "execution_count": 23,
   "metadata": {},
   "outputs": [
    {
     "name": "stdout",
     "output_type": "stream",
     "text": [
      "4\n",
      "aeiou\n",
      "Happy\n",
      "abxy\n",
      "Sad\n",
      "aebcdefgij\n",
      "Sad\n",
      "abcdeeafg\n",
      "Happy\n"
     ]
    }
   ],
   "source": [
    "t=int(input())\n",
    "for _ in range(t):\n",
    "    x=input()\n",
    "    a=\"Sad\"\n",
    "    for i in range(len(x)-2):\n",
    "        if x[i] in {'a','e','i','o','u'}:\n",
    "            if x[i+1] in {'a','e','i','o','u'}:\n",
    "               if x[i+2] in {'a','e','i','o','u'}:\n",
    "                   a=\"Happy\"\n",
    "                   break\n",
    "    print(a)"
   ]
  },
  {
   "cell_type": "code",
   "execution_count": 24,
   "metadata": {},
   "outputs": [
    {
     "name": "stdout",
     "output_type": "stream",
     "text": [
      "3\n",
      "5\n",
      "1 1 2 2 3\n",
      "3\n",
      "4\n",
      "8 8 8 8\n",
      "0\n",
      "6\n",
      "5 6 7 8 9 10\n",
      "5\n"
     ]
    }
   ],
   "source": [
    "from statistics import mode\n",
    "for _ in range(int(input())):\n",
    "    n = int(input())\n",
    "    k = list(map(int,input().split()))\n",
    "    j = mode(k)\n",
    "    cn = k.count(j)\n",
    "    print(n-cn)"
   ]
  },
  {
   "cell_type": "code",
   "execution_count": 25,
   "metadata": {},
   "outputs": [
    {
     "name": "stdout",
     "output_type": "stream",
     "text": [
      "3\n",
      "2 2\n",
      "00\n",
      "4\n",
      "2 4\n",
      "11\n",
      "1\n",
      "3 3\n",
      "101\n",
      "2\n"
     ]
    }
   ],
   "source": [
    "for i in range(int(input())):\n",
    "    n,m=map(int,input().split(' '))\n",
    "    a=input()\n",
    "    s=[]\n",
    "    total=0\n",
    "    for i in range(n):\n",
    "        total+=int(a[i])\n",
    "        s.append(total)\n",
    "    res=0\n",
    "    if total==0:\n",
    "        print(n*m)\n",
    "    elif(m*total)%2==1:\n",
    "        print(0)\n",
    "    else:\n",
    "        for j in range(m):\n",
    "            pref=j*total\n",
    "            suf=(m-j-1)*total\n",
    "            if abs(suf-pref)<=total:\n",
    "                for i in range(n):\n",
    "                    if pref+int(s[i])==suf+total-int(s[i]):\n",
    "                        res+=1 \n",
    "        print(res)"
   ]
  }
 ],
 "metadata": {
  "kernelspec": {
   "display_name": "Python 3",
   "language": "python",
   "name": "python3"
  },
  "language_info": {
   "codemirror_mode": {
    "name": "ipython",
    "version": 3
   },
   "file_extension": ".py",
   "mimetype": "text/x-python",
   "name": "python",
   "nbconvert_exporter": "python",
   "pygments_lexer": "ipython3",
   "version": "3.8.3"
  }
 },
 "nbformat": 4,
 "nbformat_minor": 4
}
