{
 "cells": [
  {
   "cell_type": "code",
   "execution_count": 1,
   "metadata": {},
   "outputs": [
    {
     "name": "stdout",
     "output_type": "stream",
     "text": [
      "besb sbring\n",
      "allesall sallring\n",
      "test string\n"
     ]
    }
   ],
   "source": [
    "s='test string'\n",
    "print(s.replace('t','b'))\n",
    "print(s.replace('t','all'))\n",
    "print(s)"
   ]
  },
  {
   "cell_type": "code",
   "execution_count": 2,
   "metadata": {},
   "outputs": [
    {
     "name": "stdout",
     "output_type": "stream",
     "text": [
      "Thi64i64Pyth1n4Exam2le...\n"
     ]
    }
   ],
   "source": [
    "s='This is Python Example...'\n",
    "x=s.maketrans(\"opq rs\",\"123456\")\n",
    "print(s.translate(x))"
   ]
  },
  {
   "cell_type": "code",
   "execution_count": 3,
   "metadata": {},
   "outputs": [
    {
     "name": "stdout",
     "output_type": "stream",
     "text": [
      "True\n",
      "False\n",
      "1601930480\n",
      "1601930480\n",
      "103624912\n"
     ]
    }
   ],
   "source": [
    "a=5\n",
    "b=5\n",
    "c=5.0\n",
    "print(a==b)\n",
    "print(a is c)\n",
    "print(id(a))\n",
    "print(id(b))\n",
    "print(id(c))"
   ]
  },
  {
   "cell_type": "code",
   "execution_count": 4,
   "metadata": {},
   "outputs": [
    {
     "name": "stdout",
     "output_type": "stream",
     "text": [
      "[1, 4, 9, 16, 25]\n"
     ]
    }
   ],
   "source": [
    "l=[1,2,3,4,5]\n",
    "def sq(n):\n",
    "    return n*n\n",
    "b=list(map(sq,l))\n",
    "print(b)"
   ]
  },
  {
   "cell_type": "code",
   "execution_count": 5,
   "metadata": {},
   "outputs": [
    {
     "data": {
      "text/plain": [
       "['__add__',\n",
       " '__class__',\n",
       " '__contains__',\n",
       " '__delattr__',\n",
       " '__delitem__',\n",
       " '__dir__',\n",
       " '__doc__',\n",
       " '__eq__',\n",
       " '__format__',\n",
       " '__ge__',\n",
       " '__getattribute__',\n",
       " '__getitem__',\n",
       " '__gt__',\n",
       " '__hash__',\n",
       " '__iadd__',\n",
       " '__imul__',\n",
       " '__init__',\n",
       " '__init_subclass__',\n",
       " '__iter__',\n",
       " '__le__',\n",
       " '__len__',\n",
       " '__lt__',\n",
       " '__mul__',\n",
       " '__ne__',\n",
       " '__new__',\n",
       " '__reduce__',\n",
       " '__reduce_ex__',\n",
       " '__repr__',\n",
       " '__reversed__',\n",
       " '__rmul__',\n",
       " '__setattr__',\n",
       " '__setitem__',\n",
       " '__sizeof__',\n",
       " '__str__',\n",
       " '__subclasshook__',\n",
       " 'append',\n",
       " 'clear',\n",
       " 'copy',\n",
       " 'count',\n",
       " 'extend',\n",
       " 'index',\n",
       " 'insert',\n",
       " 'pop',\n",
       " 'remove',\n",
       " 'reverse',\n",
       " 'sort']"
      ]
     },
     "execution_count": 5,
     "metadata": {},
     "output_type": "execute_result"
    }
   ],
   "source": [
    "dir(list)"
   ]
  },
  {
   "cell_type": "code",
   "execution_count": 6,
   "metadata": {},
   "outputs": [
    {
     "data": {
      "text/plain": [
       "\"append','clear','copy','count','extend','index','insert','pop','remove','reverse','sort\""
      ]
     },
     "execution_count": 6,
     "metadata": {},
     "output_type": "execute_result"
    }
   ],
   "source": [
    "'''append','clear','copy','count','extend','index','insert','pop','remove','reverse','sort'''"
   ]
  },
  {
   "cell_type": "code",
   "execution_count": 7,
   "metadata": {},
   "outputs": [
    {
     "name": "stdout",
     "output_type": "stream",
     "text": [
      "None\n",
      "None\n",
      "[2, 4, 5, [6, 7, 8], 9]\n",
      "None\n",
      "None\n",
      "None\n",
      "[5, 4, 3, 2, 1, 10, 20, 30, 't', 'e', 's', 't', [1, 2, 3], 4, 5]\n"
     ]
    }
   ],
   "source": [
    "l=[2,4,5]\n",
    "print(l.append([6,7,8]))\n",
    "print(l.append(9))\n",
    "print(l)\n",
    "lx=[5,4,3,2,1]\n",
    "l2=[10,20,30]\n",
    "l3='test'\n",
    "l4=([1,2,3],4,5)\n",
    "print(lx.extend(l2))\n",
    "print(lx.extend(l3))\n",
    "print(lx.extend(l4))\n",
    "print(lx)"
   ]
  },
  {
   "cell_type": "code",
   "execution_count": 8,
   "metadata": {},
   "outputs": [
    {
     "name": "stdout",
     "output_type": "stream",
     "text": [
      "[1, 2, 3, 4, 3, 4, 5, 6, 3]\n"
     ]
    }
   ],
   "source": [
    "a=[1,2,3,4,5,6]\n",
    "a.insert(2,3)\n",
    "a.insert(3,4)\n",
    "a.insert(100,3)\n",
    "print(a)"
   ]
  },
  {
   "cell_type": "code",
   "execution_count": 9,
   "metadata": {},
   "outputs": [
    {
     "name": "stdout",
     "output_type": "stream",
     "text": [
      "None\n",
      "[]\n",
      "7\n",
      "[1, 3, 5, 9, 11, 13, 15, 11, 12, 13, 14, 15]\n",
      "14\n",
      "[1, 3, 5, 9, 11, 13, 15, 11, 12, 13, 15]\n",
      "None\n",
      "[1, 3, 5, 9, 13, 15, 11, 12, 13, 15]\n",
      "None\n",
      "[3, 5, 9, 13, 15, 11, 12, 13, 15]\n"
     ]
    }
   ],
   "source": [
    "x=[7,8,9,0]\n",
    "x1=[1,3,5,7,9,11,13,15,11,12,13,14,15]\n",
    "print(x.clear())\n",
    "print(x)\n",
    "print(x1.pop(-10))\n",
    "print(x1)\n",
    "print(x1.pop(10))\n",
    "print(x1)\n",
    "print(x1.remove(11))\n",
    "print(x1)\n",
    "print(x1.remove(1))\n",
    "print(x1)"
   ]
  },
  {
   "cell_type": "code",
   "execution_count": 10,
   "metadata": {},
   "outputs": [
    {
     "name": "stdout",
     "output_type": "stream",
     "text": [
      "2\n",
      "None\n",
      "[15, 14, 13, 12, 11, 15, 13, 11, 9, 7, 5, 3, 1]\n",
      "[1, 3, 5, 7, 9, 11, 11, 12, 13, 13, 14, 15, 15]\n",
      "None\n"
     ]
    }
   ],
   "source": [
    "x1=[1,3,5,7,9,11,13,15,11,12,13,14,15]\n",
    "print(x1.count(11))\n",
    "print(x1.reverse())\n",
    "print(x1)\n",
    "x1.sort()\n",
    "print(x1)\n",
    "print(x1.sort())"
   ]
  },
  {
   "cell_type": "code",
   "execution_count": 11,
   "metadata": {},
   "outputs": [
    {
     "name": "stdout",
     "output_type": "stream",
     "text": [
      "[1, 2, 3] [1, 2, 3] [1, 2, 3]\n",
      "101021640 101021640 101008552\n"
     ]
    }
   ],
   "source": [
    "l=[1,2,3]\n",
    "l2=l\n",
    "l3=l.copy()\n",
    "print(l,l2,l3)\n",
    "print(id(l),id(l2),id(l3))"
   ]
  },
  {
   "cell_type": "code",
   "execution_count": 12,
   "metadata": {},
   "outputs": [
    {
     "data": {
      "text/plain": [
       "['__add__',\n",
       " '__class__',\n",
       " '__contains__',\n",
       " '__delattr__',\n",
       " '__dir__',\n",
       " '__doc__',\n",
       " '__eq__',\n",
       " '__format__',\n",
       " '__ge__',\n",
       " '__getattribute__',\n",
       " '__getitem__',\n",
       " '__getnewargs__',\n",
       " '__gt__',\n",
       " '__hash__',\n",
       " '__init__',\n",
       " '__init_subclass__',\n",
       " '__iter__',\n",
       " '__le__',\n",
       " '__len__',\n",
       " '__lt__',\n",
       " '__mul__',\n",
       " '__ne__',\n",
       " '__new__',\n",
       " '__reduce__',\n",
       " '__reduce_ex__',\n",
       " '__repr__',\n",
       " '__rmul__',\n",
       " '__setattr__',\n",
       " '__sizeof__',\n",
       " '__str__',\n",
       " '__subclasshook__',\n",
       " 'count',\n",
       " 'index']"
      ]
     },
     "execution_count": 12,
     "metadata": {},
     "output_type": "execute_result"
    }
   ],
   "source": [
    "dir(tuple)"
   ]
  },
  {
   "cell_type": "code",
   "execution_count": 13,
   "metadata": {},
   "outputs": [
    {
     "data": {
      "text/plain": [
       "['__class__',\n",
       " '__contains__',\n",
       " '__delattr__',\n",
       " '__delitem__',\n",
       " '__dir__',\n",
       " '__doc__',\n",
       " '__eq__',\n",
       " '__format__',\n",
       " '__ge__',\n",
       " '__getattribute__',\n",
       " '__getitem__',\n",
       " '__gt__',\n",
       " '__hash__',\n",
       " '__init__',\n",
       " '__init_subclass__',\n",
       " '__iter__',\n",
       " '__le__',\n",
       " '__len__',\n",
       " '__lt__',\n",
       " '__ne__',\n",
       " '__new__',\n",
       " '__reduce__',\n",
       " '__reduce_ex__',\n",
       " '__repr__',\n",
       " '__reversed__',\n",
       " '__setattr__',\n",
       " '__setitem__',\n",
       " '__sizeof__',\n",
       " '__str__',\n",
       " '__subclasshook__',\n",
       " 'clear',\n",
       " 'copy',\n",
       " 'fromkeys',\n",
       " 'get',\n",
       " 'items',\n",
       " 'keys',\n",
       " 'pop',\n",
       " 'popitem',\n",
       " 'setdefault',\n",
       " 'update',\n",
       " 'values']"
      ]
     },
     "execution_count": 13,
     "metadata": {},
     "output_type": "execute_result"
    }
   ],
   "source": [
    "dir(dict)"
   ]
  },
  {
   "cell_type": "code",
   "execution_count": 14,
   "metadata": {},
   "outputs": [
    {
     "data": {
      "text/plain": [
       "\"clear','copy','fromkeys','get','items','keys','pop','popitem','setdefault','update','values\""
      ]
     },
     "execution_count": 14,
     "metadata": {},
     "output_type": "execute_result"
    }
   ],
   "source": [
    "'''clear','copy','fromkeys','get','items','keys','pop','popitem','setdefault','update','values'''"
   ]
  },
  {
   "cell_type": "code",
   "execution_count": 15,
   "metadata": {},
   "outputs": [
    {
     "name": "stdout",
     "output_type": "stream",
     "text": [
      "{1: 'First', 2: 'Second', 3: 'Third', 4: 'Fourth'}\n",
      "Second\n",
      "{1: 'First', 2: 'Second', 4: 'Fourth'}\n",
      "dict_items([(1, 'First'), (2, 'Second'), (4, 'Fourth')])\n",
      "dict_values(['First', 'Second', 'Fourth'])\n"
     ]
    }
   ],
   "source": [
    "d={1:'First',2:'Second',3:'Third'}\n",
    "d[4]='Fourth'\n",
    "print(d)\n",
    "print(d[2])\n",
    "del d[3]\n",
    "print(d)\n",
    "print(d.items())\n",
    "print(d.values())"
   ]
  },
  {
   "cell_type": "code",
   "execution_count": 16,
   "metadata": {},
   "outputs": [
    {
     "name": "stdout",
     "output_type": "stream",
     "text": [
      "None\n",
      "na\n",
      "None\n",
      "{'Org': 'CCC Digital', 'loc': 'HYd', 'Services': 'na'}\n",
      "{'Org': 'CCC Digital', 'loc': 'HYd', 'Services': None}\n"
     ]
    }
   ],
   "source": [
    "d={'Org':'CCC Digital','loc':'HYd'}\n",
    "d1={'Org':'CCC Digital','loc':'HYd'}\n",
    "print(d.get('Services'))\n",
    "print(d.setdefault('Services','na'))\n",
    "print(d1.setdefault('Services'))\n",
    "print(d)\n",
    "print(d1)"
   ]
  },
  {
   "cell_type": "code",
   "execution_count": 17,
   "metadata": {},
   "outputs": [
    {
     "name": "stdout",
     "output_type": "stream",
     "text": [
      "{'Domain': 'Unknown', 'sis': 'Unknown'}\n",
      "{'Domain': 'EdTech', 'sis': ['Jayaho', 'Digital', 'Training']}\n"
     ]
    }
   ],
   "source": [
    "l=['Domain','sis']\n",
    "d=dict.fromkeys(l,'Unknown')\n",
    "print(d)\n",
    "d['Domain']='EdTech'\n",
    "d['sis']=['Jayaho','Digital','Training']\n",
    "print(d)"
   ]
  },
  {
   "cell_type": "code",
   "execution_count": 18,
   "metadata": {},
   "outputs": [
    {
     "name": "stdout",
     "output_type": "stream",
     "text": [
      "4\n",
      "{1: 1, 2: 4, 3: 9, 4: 16}\n"
     ]
    }
   ],
   "source": [
    "n=int(input())\n",
    "d={}\n",
    "for i in range(1,n+1):\n",
    "    d[i]=i*i\n",
    "print(d)"
   ]
  },
  {
   "cell_type": "code",
   "execution_count": 19,
   "metadata": {},
   "outputs": [
    {
     "name": "stdout",
     "output_type": "stream",
     "text": [
      "9\n",
      "{1: 1, 2: 4, 3: 9, 4: 16, 5: 25, 6: 36, 7: 49, 8: 64, 9: 81}\n"
     ]
    }
   ],
   "source": [
    "n=int(input())\n",
    "d={x:x*x for x in range(1,n+1)}\n",
    "print(d)"
   ]
  },
  {
   "cell_type": "markdown",
   "metadata": {},
   "source": [
    "# Sets"
   ]
  },
  {
   "cell_type": "code",
   "execution_count": 20,
   "metadata": {},
   "outputs": [
    {
     "data": {
      "text/plain": [
       "['__and__',\n",
       " '__class__',\n",
       " '__contains__',\n",
       " '__delattr__',\n",
       " '__dir__',\n",
       " '__doc__',\n",
       " '__eq__',\n",
       " '__format__',\n",
       " '__ge__',\n",
       " '__getattribute__',\n",
       " '__gt__',\n",
       " '__hash__',\n",
       " '__iand__',\n",
       " '__init__',\n",
       " '__init_subclass__',\n",
       " '__ior__',\n",
       " '__isub__',\n",
       " '__iter__',\n",
       " '__ixor__',\n",
       " '__le__',\n",
       " '__len__',\n",
       " '__lt__',\n",
       " '__ne__',\n",
       " '__new__',\n",
       " '__or__',\n",
       " '__rand__',\n",
       " '__reduce__',\n",
       " '__reduce_ex__',\n",
       " '__repr__',\n",
       " '__ror__',\n",
       " '__rsub__',\n",
       " '__rxor__',\n",
       " '__setattr__',\n",
       " '__sizeof__',\n",
       " '__str__',\n",
       " '__sub__',\n",
       " '__subclasshook__',\n",
       " '__xor__',\n",
       " 'add',\n",
       " 'clear',\n",
       " 'copy',\n",
       " 'difference',\n",
       " 'difference_update',\n",
       " 'discard',\n",
       " 'intersection',\n",
       " 'intersection_update',\n",
       " 'isdisjoint',\n",
       " 'issubset',\n",
       " 'issuperset',\n",
       " 'pop',\n",
       " 'remove',\n",
       " 'symmetric_difference',\n",
       " 'symmetric_difference_update',\n",
       " 'union',\n",
       " 'update']"
      ]
     },
     "execution_count": 20,
     "metadata": {},
     "output_type": "execute_result"
    }
   ],
   "source": [
    "dir(set)"
   ]
  },
  {
   "cell_type": "code",
   "execution_count": 21,
   "metadata": {},
   "outputs": [
    {
     "name": "stdout",
     "output_type": "stream",
     "text": [
      "<class 'set'>\n",
      "<class 'dict'>\n"
     ]
    }
   ],
   "source": [
    "s=set()\n",
    "s1={}\n",
    "print(type(s))\n",
    "print(type(s1))"
   ]
  },
  {
   "cell_type": "code",
   "execution_count": 22,
   "metadata": {},
   "outputs": [
    {
     "name": "stdout",
     "output_type": "stream",
     "text": [
      "<class 'set'>\n",
      "{1, 2, 3, 4}\n"
     ]
    }
   ],
   "source": [
    "s={2,3,4,3,4,1} #cannot have list and set as a member\n",
    "print(type(s))\n",
    "print(s)"
   ]
  },
  {
   "cell_type": "code",
   "execution_count": 23,
   "metadata": {},
   "outputs": [
    {
     "data": {
      "text/plain": [
       "\"add','clear','copy','difference','difference_update','discard',\\n'intersection','intersection_update','isdisjoint','issubset','issuperset',\\n'pop','remove','symmetric_difference','symmetric_difference_update','union','update\""
      ]
     },
     "execution_count": 23,
     "metadata": {},
     "output_type": "execute_result"
    }
   ],
   "source": [
    "'''add','clear','copy','difference','difference_update','discard',\n",
    "'intersection','intersection_update','isdisjoint','issubset','issuperset',\n",
    "'pop','remove','symmetric_difference','symmetric_difference_update','union','update'''"
   ]
  },
  {
   "cell_type": "code",
   "execution_count": 24,
   "metadata": {},
   "outputs": [
    {
     "name": "stdout",
     "output_type": "stream",
     "text": [
      "None\n",
      "{1, 2, 3, 4, 5, 6, 8, 9, (5, 6, 7)}\n",
      "1\n",
      "{2, 3, 4, 5, 6, 8, 9, (5, 6, 7)}\n"
     ]
    }
   ],
   "source": [
    "s={2,6,2,1,4,3,2,5,8,9,4,2,5,4,2,1}\n",
    "print(s.add((5,6,7)))\n",
    "print(s)\n",
    "print(s.pop())\n",
    "print(s)"
   ]
  },
  {
   "cell_type": "code",
   "execution_count": 25,
   "metadata": {},
   "outputs": [
    {
     "name": "stdout",
     "output_type": "stream",
     "text": [
      "{1, 2, 3, 4, 5, 6, 8, 9}\n",
      "{1, 2, 3, 4, 6, 8, 9}\n",
      "{1, 2, 3, 4, 6, 8, 9}\n",
      "{1, 3, 4, 6, 8, 9}\n"
     ]
    }
   ],
   "source": [
    "s={2,6,2,1,4,3,2,5,8,9,4,2,5,4,2,1}\n",
    "print(s)\n",
    "s.remove(5) #if not present error\n",
    "print(s)\n",
    "s.discard(15)\n",
    "print(s)\n",
    "s.discard(2)\n",
    "print(s)"
   ]
  },
  {
   "cell_type": "code",
   "execution_count": 26,
   "metadata": {},
   "outputs": [
    {
     "name": "stdout",
     "output_type": "stream",
     "text": [
      "{1, 2, 3, 5}\n",
      "{1, 2, 3, 4, 5, 6}\n",
      "{1, 2, 3, 4, 5, 6}\n"
     ]
    }
   ],
   "source": [
    "s1={1,2,3}\n",
    "s2={2,4,6}\n",
    "s3={1,3,5}\n",
    "print(s1.union(s3))\n",
    "print(s1.union(s2,s3))\n",
    "print(set.union(s1,s2,s3))"
   ]
  },
  {
   "cell_type": "code",
   "execution_count": 27,
   "metadata": {},
   "outputs": [
    {
     "name": "stdout",
     "output_type": "stream",
     "text": [
      "{1, 2, 3, 4, 6} {2, 4, 6}\n",
      "{1, 2, 3, 4, 6} {1, 3}\n"
     ]
    }
   ],
   "source": [
    "s1={1,2,3}\n",
    "s2={2,4,6}\n",
    "s3={1,3,5}\n",
    "s1=s1.union(s2)\n",
    "print(s1,s2)\n",
    "s3=s3.intersection(s1)\n",
    "print(s1,s3)"
   ]
  },
  {
   "cell_type": "code",
   "execution_count": 28,
   "metadata": {},
   "outputs": [
    {
     "name": "stdout",
     "output_type": "stream",
     "text": [
      "None\n",
      "set()\n"
     ]
    }
   ],
   "source": [
    "s1={1,2,3}\n",
    "s2={2,4,6}\n",
    "s3={1,3,5}\n",
    "print(s3.intersection_update(s2))\n",
    "print(s3)"
   ]
  },
  {
   "cell_type": "code",
   "execution_count": 29,
   "metadata": {},
   "outputs": [
    {
     "name": "stdout",
     "output_type": "stream",
     "text": [
      "None\n",
      "{1, 3, 5}\n",
      "{4, 6}\n",
      "{1, 3, 5}\n"
     ]
    }
   ],
   "source": [
    "s1={1,2,3}\n",
    "s2={2,4,6}\n",
    "s3={1,3,5}\n",
    "print(s3.difference_update(s2))\n",
    "print(s3)\n",
    "print(s2.difference(s1))\n",
    "print(s3)"
   ]
  },
  {
   "cell_type": "code",
   "execution_count": 30,
   "metadata": {},
   "outputs": [
    {
     "name": "stdout",
     "output_type": "stream",
     "text": [
      "{2}\n",
      "{1, 2, 3, 4, 6}\n",
      "{1, 3}\n",
      "{1, 3, 4, 6}\n"
     ]
    }
   ],
   "source": [
    "s1={1,2,3}\n",
    "s2={2,4,6}\n",
    "print(s1&s2)#intersection\n",
    "print(s1|s2)#union\n",
    "print(s1-s2)#difference\n",
    "print(s1^s2)#symmetric difference"
   ]
  },
  {
   "cell_type": "code",
   "execution_count": 31,
   "metadata": {},
   "outputs": [
    {
     "name": "stdout",
     "output_type": "stream",
     "text": [
      "{1, 3, 4, 6}\n",
      "\n"
     ]
    }
   ],
   "source": [
    "s1={1,2,3}\n",
    "s2={2,4,6}\n",
    "print(set.symmetric_difference(s1,s2))\n",
    "print()"
   ]
  },
  {
   "cell_type": "code",
   "execution_count": 32,
   "metadata": {},
   "outputs": [
    {
     "name": "stdout",
     "output_type": "stream",
     "text": [
      "None\n",
      "{8, 1, 2, 7}\n"
     ]
    }
   ],
   "source": [
    "s1={1,2}\n",
    "s2={7,8}\n",
    "s3={}\n",
    "print(s1.update(s2))\n",
    "print(s1)"
   ]
  },
  {
   "cell_type": "code",
   "execution_count": 33,
   "metadata": {},
   "outputs": [
    {
     "name": "stdout",
     "output_type": "stream",
     "text": [
      "[10,9,8,7,6]\n",
      "[10, 9, 8, 7, 6]\n"
     ]
    }
   ],
   "source": [
    "l=eval(input())\n",
    "l2=[]\n",
    "for i in l:\n",
    "    if(i not in l2):\n",
    "        l2.append(i)\n",
    "print(l2)"
   ]
  },
  {
   "cell_type": "code",
   "execution_count": 34,
   "metadata": {},
   "outputs": [
    {
     "name": "stdout",
     "output_type": "stream",
     "text": [
      "{'Name': 'Raj', 'CurSub': 'Python'}\n",
      "{'Raj': 'Name', 'Python': 'CurSub'}\n"
     ]
    }
   ],
   "source": [
    "l=[('Name','Raj'),('CurSub','Python')]\n",
    "d=dict(l)\n",
    "print(d)\n",
    "d={y:x for x,y in l}\n",
    "print(d)"
   ]
  },
  {
   "cell_type": "code",
   "execution_count": 35,
   "metadata": {},
   "outputs": [
    {
     "name": "stdout",
     "output_type": "stream",
     "text": [
      "Che ['Python', 'DSA', 'Dev'] Hyd\n"
     ]
    }
   ],
   "source": [
    "t=('Che','Python','DSA','Dev','Hyd')\n",
    "org,*course,loc=t\n",
    "print(org,course,loc)"
   ]
  },
  {
   "cell_type": "code",
   "execution_count": 36,
   "metadata": {},
   "outputs": [
    {
     "name": "stdout",
     "output_type": "stream",
     "text": [
      "['Python', 'DSA', 'Dev']\n",
      "Python DSA Dev\n"
     ]
    }
   ],
   "source": [
    "l=list(course)\n",
    "print(l)\n",
    "print(*l)"
   ]
  },
  {
   "cell_type": "code",
   "execution_count": 37,
   "metadata": {},
   "outputs": [
    {
     "name": "stdout",
     "output_type": "stream",
     "text": [
      "<class 'tuple'>\n",
      "<class 'tuple'>\n",
      "<class 'int'>\n",
      "<class 'tuple'>\n"
     ]
    }
   ],
   "source": [
    "x=1,2,3\n",
    "x1=()\n",
    "x2=(1)\n",
    "x3=(1,)\n",
    "print(type(x))\n",
    "print(type(x1))\n",
    "print(type(x2))\n",
    "print(type(x3))"
   ]
  },
  {
   "cell_type": "code",
   "execution_count": 39,
   "metadata": {},
   "outputs": [
    {
     "name": "stdout",
     "output_type": "stream",
     "text": [
      "cooking\n",
      "cookingly\n"
     ]
    }
   ],
   "source": [
    "s=str(input())\n",
    "l=len(s)\n",
    "if l>3:\n",
    "    if (s.endswith('ing')):\n",
    "        s=s[::]+'ly'\n",
    "        print(s)\n",
    "else:\n",
    "    print(s)"
   ]
  },
  {
   "cell_type": "code",
   "execution_count": 40,
   "metadata": {},
   "outputs": [
    {
     "name": "stdout",
     "output_type": "stream",
     "text": [
      "sample text\n",
      "elpmas txet "
     ]
    }
   ],
   "source": [
    "s=input()\n",
    "l=s.split()\n",
    "for i in l:\n",
    "    print(i[::-1],end=\" \")"
   ]
  }
 ],
 "metadata": {
  "kernelspec": {
   "display_name": "Python 3",
   "language": "python",
   "name": "python3"
  },
  "language_info": {
   "codemirror_mode": {
    "name": "ipython",
    "version": 3
   },
   "file_extension": ".py",
   "mimetype": "text/x-python",
   "name": "python",
   "nbconvert_exporter": "python",
   "pygments_lexer": "ipython3",
   "version": "3.8.3"
  }
 },
 "nbformat": 4,
 "nbformat_minor": 4
}
