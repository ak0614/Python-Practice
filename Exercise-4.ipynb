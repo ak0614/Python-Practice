{
 "cells": [
  {
   "cell_type": "code",
   "execution_count": 1,
   "metadata": {},
   "outputs": [
    {
     "name": "stdout",
     "output_type": "stream",
     "text": [
      "3\n",
      "12\n"
     ]
    }
   ],
   "source": [
    "n=int(input())\n",
    "print(int(n/2)*(6+((n-1)*3)))"
   ]
  },
  {
   "cell_type": "code",
   "execution_count": 2,
   "metadata": {},
   "outputs": [
    {
     "name": "stdout",
     "output_type": "stream",
     "text": [
      "Python by Course\n",
      "Python by Course\n",
      "Python by Course\n"
     ]
    }
   ],
   "source": [
    "name='Course'\n",
    "course='Python'\n",
    "s='{} by {}'.format(course,name)\n",
    "print(s)\n",
    "s=course+' by '+name\n",
    "print(s)\n",
    "s='{1} by {0}'.format(name,course)\n",
    "print(s)"
   ]
  },
  {
   "cell_type": "code",
   "execution_count": 3,
   "metadata": {},
   "outputs": [
    {
     "name": "stdout",
     "output_type": "stream",
     "text": [
      "Python and DSA and PS and AppDev\n"
     ]
    }
   ],
   "source": [
    "s=\"Python {0} DSA {0} PS {0} AppDev\".format('and')\n",
    "print(s)"
   ]
  },
  {
   "cell_type": "markdown",
   "metadata": {},
   "source": [
    "# Functions"
   ]
  },
  {
   "cell_type": "code",
   "execution_count": 4,
   "metadata": {},
   "outputs": [
    {
     "name": "stdout",
     "output_type": "stream",
     "text": [
      "Good Day!\n",
      "printing function None\n",
      "Good Day!\n"
     ]
    }
   ],
   "source": [
    "def greet():\n",
    "    print(\"Good Day!\")\n",
    "print('printing function',greet())\n",
    "greet()"
   ]
  },
  {
   "cell_type": "code",
   "execution_count": 5,
   "metadata": {},
   "outputs": [
    {
     "name": "stdout",
     "output_type": "stream",
     "text": [
      "Good Day! Frank\n"
     ]
    }
   ],
   "source": [
    "def greet(name):\n",
    "    print(\"Good Day!\",name)\n",
    "greet('Frank')"
   ]
  },
  {
   "cell_type": "markdown",
   "metadata": {},
   "source": [
    "Types of arguments in Python\n",
    "1. Required Arguments\n",
    "2. Keyword Arguments\n",
    "3. Default Arguments\n",
    "4. Variable Arguments"
   ]
  },
  {
   "cell_type": "code",
   "execution_count": 6,
   "metadata": {},
   "outputs": [
    {
     "name": "stdout",
     "output_type": "stream",
     "text": [
      "Good Day! Ram\n"
     ]
    }
   ],
   "source": [
    "def greet(name='Ram'):\n",
    "    print(\"Good Day!\",name)\n",
    "greet()"
   ]
  },
  {
   "cell_type": "code",
   "execution_count": 7,
   "metadata": {},
   "outputs": [
    {
     "name": "stdout",
     "output_type": "stream",
     "text": [
      "a= 5\n",
      "b= 2\n",
      "a= 2\n",
      "b= 5\n"
     ]
    }
   ],
   "source": [
    "def printNum(a,b):\n",
    "    print('a=',a)\n",
    "    print('b=',b)\n",
    "    return\n",
    "printNum(b=2,a=5)\n",
    "printNum(2,b=5)"
   ]
  },
  {
   "cell_type": "code",
   "execution_count": 8,
   "metadata": {},
   "outputs": [
    {
     "name": "stdout",
     "output_type": "stream",
     "text": [
      "a= 2\n",
      "b= 5\n",
      "c= 7\n"
     ]
    }
   ],
   "source": [
    "def printNum(a,b,c):\n",
    "    print('a=',a)\n",
    "    print('b=',b)\n",
    "    print('c=',c)\n",
    "    return\n",
    "printNum(2,5,7) #Positional argument should not follow keyword argument"
   ]
  },
  {
   "cell_type": "code",
   "execution_count": 9,
   "metadata": {},
   "outputs": [
    {
     "name": "stdout",
     "output_type": "stream",
     "text": [
      "a= 2\n",
      "b= 5\n",
      "c= 7\n",
      "a= 5\n",
      "b= 2\n",
      "c= 5\n"
     ]
    }
   ],
   "source": [
    "def printNum(a,b,c=5):\n",
    "    print('a=',a)\n",
    "    print('b=',b)\n",
    "    print('c=',c)\n",
    "    return\n",
    "printNum(2,5,7)\n",
    "printNum(5,2)"
   ]
  },
  {
   "cell_type": "code",
   "execution_count": 10,
   "metadata": {},
   "outputs": [
    {
     "data": {
      "text/plain": [
       "\"def printNum(a,b=10,c):\\n    print('a=',a)\\n    print('b=',b)\\n    print('c=',c)\\n    return\\nprintNum(2,5,c=7)\""
      ]
     },
     "execution_count": 10,
     "metadata": {},
     "output_type": "execute_result"
    }
   ],
   "source": [
    "'''def printNum(a,b=10,c):\n",
    "    print('a=',a)\n",
    "    print('b=',b)\n",
    "    print('c=',c)\n",
    "    return\n",
    "printNum(2,5,c=7)'''"
   ]
  },
  {
   "cell_type": "code",
   "execution_count": 11,
   "metadata": {},
   "outputs": [
    {
     "data": {
      "text/plain": [
       "\"def printNum(a,c,b=10):\\n    print('a=',a)\\n    print('b=',b)\\n    print('c=',c)\\n    return\\nprintNum(2,5,c=7)\""
      ]
     },
     "execution_count": 11,
     "metadata": {},
     "output_type": "execute_result"
    }
   ],
   "source": [
    "'''def printNum(a,c,b=10):\n",
    "    print('a=',a)\n",
    "    print('b=',b)\n",
    "    print('c=',c)\n",
    "    return\n",
    "printNum(2,5,c=7)'''"
   ]
  },
  {
   "cell_type": "code",
   "execution_count": 12,
   "metadata": {},
   "outputs": [
    {
     "name": "stdout",
     "output_type": "stream",
     "text": [
      "a= 2\n",
      "b= 5\n",
      "c= 7\n"
     ]
    }
   ],
   "source": [
    "def printNum(a,c,b=10):\n",
    "    print('a=',a)\n",
    "    print('b=',b)\n",
    "    print('c=',c)\n",
    "    return\n",
    "printNum(2,b=5,c=7)"
   ]
  },
  {
   "cell_type": "code",
   "execution_count": 13,
   "metadata": {},
   "outputs": [
    {
     "data": {
      "text/plain": [
       "40"
      ]
     },
     "execution_count": 13,
     "metadata": {},
     "output_type": "execute_result"
    }
   ],
   "source": [
    "def sumOfNum(*l):\n",
    "    res=0\n",
    "    for i in l:\n",
    "        res+=i\n",
    "    return res\n",
    "sumOfNum(10,9,8,7,6)"
   ]
  },
  {
   "cell_type": "code",
   "execution_count": 14,
   "metadata": {},
   "outputs": [
    {
     "data": {
      "text/plain": [
       "'def sumOfNum(n,*l,m):\\n    res=0\\n    for i in range(n):\\n        res+=i\\n    return res\\nsumOfNum(10,9,8,7,6)'"
      ]
     },
     "execution_count": 14,
     "metadata": {},
     "output_type": "execute_result"
    }
   ],
   "source": [
    "'''def sumOfNum(n,*l,m):\n",
    "    res=0\n",
    "    for i in range(n):\n",
    "        res+=i\n",
    "    return res\n",
    "sumOfNum(10,9,8,7,6)'''"
   ]
  },
  {
   "cell_type": "code",
   "execution_count": 15,
   "metadata": {},
   "outputs": [
    {
     "data": {
      "text/plain": [
       "24"
      ]
     },
     "execution_count": 15,
     "metadata": {},
     "output_type": "execute_result"
    }
   ],
   "source": [
    "def sumOfNum(n,*l,m):\n",
    "    res=0\n",
    "    for i in range(n):\n",
    "        res+=l[i]\n",
    "    return res\n",
    "sumOfNum(3,9,8,7,m=6)"
   ]
  },
  {
   "cell_type": "markdown",
   "metadata": {},
   "source": [
    "Task-What is variable length keyword argument?"
   ]
  },
  {
   "cell_type": "code",
   "execution_count": 16,
   "metadata": {},
   "outputs": [
    {
     "name": "stdout",
     "output_type": "stream",
     "text": [
      "('Course', 'Python', 'DSA', 'AIML', 'Hyd')\n",
      "['Python', 'DSA', 'AIML']\n"
     ]
    }
   ],
   "source": [
    "def test():\n",
    "    return('Course','Python','DSA','AIML','Hyd')\n",
    "org,*courses,loc=test()\n",
    "print(test())\n",
    "print(courses)"
   ]
  },
  {
   "cell_type": "code",
   "execution_count": 17,
   "metadata": {},
   "outputs": [
    {
     "name": "stdout",
     "output_type": "stream",
     "text": [
      "Hey\n"
     ]
    }
   ],
   "source": [
    "def test():\n",
    "    print('Hey')\n",
    "t=test\n",
    "t()"
   ]
  },
  {
   "cell_type": "code",
   "execution_count": 18,
   "metadata": {},
   "outputs": [
    {
     "name": "stdout",
     "output_type": "stream",
     "text": [
      "Just in outer\n"
     ]
    }
   ],
   "source": [
    "def outer():\n",
    "    print('Just in outer')\n",
    "    def inner():\n",
    "        print('Just entering inner function')\n",
    "        return\n",
    "    return\n",
    "outer()"
   ]
  },
  {
   "cell_type": "code",
   "execution_count": 19,
   "metadata": {},
   "outputs": [
    {
     "name": "stdout",
     "output_type": "stream",
     "text": [
      "Just in outer\n",
      "Just entering inner function\n"
     ]
    }
   ],
   "source": [
    "def outer():\n",
    "    print('Just in outer')\n",
    "    def inner():\n",
    "        print('Just entering inner function')\n",
    "        return\n",
    "    inner()\n",
    "    return\n",
    "outer()"
   ]
  },
  {
   "cell_type": "code",
   "execution_count": 20,
   "metadata": {},
   "outputs": [
    {
     "name": "stdout",
     "output_type": "stream",
     "text": [
      "Just in outer\n",
      "Inner function of Global Scope\n"
     ]
    }
   ],
   "source": [
    "def inner():\n",
    "    print('Inner function of Global Scope')\n",
    "    return\n",
    "def outer():\n",
    "    print('Just in outer')\n",
    "    def inner():\n",
    "        print('Just entering inner function')\n",
    "        return\n",
    "    #inner()\n",
    "    return\n",
    "outer()\n",
    "inner()"
   ]
  },
  {
   "cell_type": "code",
   "execution_count": 21,
   "metadata": {},
   "outputs": [
    {
     "name": "stdout",
     "output_type": "stream",
     "text": [
      "Just in outer\n",
      "Just entering inner function\n",
      "Just in outer\n"
     ]
    },
    {
     "data": {
      "text/plain": [
       "<function __main__.outer.<locals>.inner()>"
      ]
     },
     "execution_count": 21,
     "metadata": {},
     "output_type": "execute_result"
    }
   ],
   "source": [
    "def outer():\n",
    "    print('Just in outer')\n",
    "    def inner():\n",
    "        print('Just entering inner function')\n",
    "        return\n",
    "    return inner\n",
    "t=outer()\n",
    "t()\n",
    "t=outer\n",
    "t()"
   ]
  },
  {
   "cell_type": "markdown",
   "metadata": {},
   "source": [
    "# Recursion"
   ]
  },
  {
   "cell_type": "code",
   "execution_count": 22,
   "metadata": {},
   "outputs": [
    {
     "name": "stdout",
     "output_type": "stream",
     "text": [
      "5 4 3 2 1 "
     ]
    }
   ],
   "source": [
    "n=5 #Tail recursion\n",
    "def test(n):\n",
    "    if n>0:\n",
    "        print(n,end=' ')\n",
    "        test(n-1)\n",
    "    return\n",
    "test(n)"
   ]
  },
  {
   "cell_type": "code",
   "execution_count": 23,
   "metadata": {},
   "outputs": [
    {
     "name": "stdout",
     "output_type": "stream",
     "text": [
      "5\n",
      "4\n",
      "3\n",
      "2\n",
      "1\n",
      "1 2 3 4 5 "
     ]
    }
   ],
   "source": [
    "n=5 #Head recursion\n",
    "def test(n):\n",
    "    if n>0:\n",
    "        print(n)\n",
    "        test(n-1)\n",
    "        print(n,end=' ')\n",
    "    return\n",
    "test(n)"
   ]
  },
  {
   "cell_type": "code",
   "execution_count": 24,
   "metadata": {},
   "outputs": [
    {
     "data": {
      "text/plain": [
       "5"
      ]
     },
     "execution_count": 24,
     "metadata": {},
     "output_type": "execute_result"
    }
   ],
   "source": [
    "n=5\n",
    "def fact(n):\n",
    "    mul=1\n",
    "    if n>0:\n",
    "        fact(n-1)\n",
    "        mul*=n\n",
    "    return mul\n",
    "fact(5)"
   ]
  },
  {
   "cell_type": "code",
   "execution_count": 25,
   "metadata": {},
   "outputs": [
    {
     "name": "stdout",
     "output_type": "stream",
     "text": [
      "namaR"
     ]
    }
   ],
   "source": [
    "def revStr(s):\n",
    "    for i in range(-1,-len(s)-1,-1):\n",
    "        print(s[i],end='')\n",
    "    return\n",
    "revStr('Raman')"
   ]
  },
  {
   "cell_type": "code",
   "execution_count": 26,
   "metadata": {},
   "outputs": [
    {
     "name": "stdout",
     "output_type": "stream",
     "text": [
      "TN5av9376\n",
      "4\n",
      "Better luck next time\n"
     ]
    }
   ],
   "source": [
    "s=input().strip()\n",
    "n=int(input())\n",
    "num=int(s[-1:-5:-1])\n",
    "if num%9==n or (n%9==0 and n==9):\n",
    "    print('Lucky')\n",
    "else:\n",
    "    print('Better luck next time')"
   ]
  }
 ],
 "metadata": {
  "kernelspec": {
   "display_name": "Python 3",
   "language": "python",
   "name": "python3"
  },
  "language_info": {
   "codemirror_mode": {
    "name": "ipython",
    "version": 3
   },
   "file_extension": ".py",
   "mimetype": "text/x-python",
   "name": "python",
   "nbconvert_exporter": "python",
   "pygments_lexer": "ipython3",
   "version": "3.8.3"
  }
 },
 "nbformat": 4,
 "nbformat_minor": 4
}
