{
 "cells": [
  {
   "cell_type": "code",
   "execution_count": 1,
   "metadata": {},
   "outputs": [
    {
     "name": "stdout",
     "output_type": "stream",
     "text": [
      "{'a': 6, 'b': 7, 'c': 9, 'd': 8}\n"
     ]
    }
   ],
   "source": [
    "def test(**k):\n",
    "    print(k)\n",
    "    return\n",
    "test(a=6,b=7,c=9,d=8)"
   ]
  },
  {
   "cell_type": "code",
   "execution_count": 2,
   "metadata": {},
   "outputs": [
    {
     "name": "stdout",
     "output_type": "stream",
     "text": [
      "{'a': 6, 'b': 7, 'c': 9, 'd': 8}\n",
      "(4, 6, 2)\n"
     ]
    }
   ],
   "source": [
    "def test(*n,**k):\n",
    "    print(k)\n",
    "    print(n)\n",
    "    return\n",
    "test(4,6,2,a=6,b=7,c=9,d=8)"
   ]
  },
  {
   "cell_type": "code",
   "execution_count": 3,
   "metadata": {},
   "outputs": [
    {
     "name": "stdout",
     "output_type": "stream",
     "text": [
      "Global p-> 6\n",
      "Outer p-> 4\n",
      "Global p2-> 4\n"
     ]
    }
   ],
   "source": [
    "p=6\n",
    "print(\"Global p->\",p)\n",
    "def outer():\n",
    "    global p\n",
    "    p=4\n",
    "    print(\"Outer p->\",p)\n",
    "    return\n",
    "outer()\n",
    "print(\"Global p2->\",p)"
   ]
  },
  {
   "cell_type": "code",
   "execution_count": 4,
   "metadata": {},
   "outputs": [
    {
     "name": "stdout",
     "output_type": "stream",
     "text": [
      "Global p-> 6\n",
      "Outer p-> 7\n",
      "Inner p-> 8\n",
      "Outer p-> 7\n",
      "Global p2-> 6\n"
     ]
    }
   ],
   "source": [
    "p=6\n",
    "print(\"Global p->\",p)\n",
    "def outer():\n",
    "    p=7\n",
    "    print(\"Outer p->\",p)\n",
    "    def inner():\n",
    "        p=8\n",
    "        print(\"Inner p->\",p)\n",
    "        return\n",
    "    inner()\n",
    "    print(\"Outer p->\",p)\n",
    "    return\n",
    "outer()\n",
    "print(\"Global p2->\",p)"
   ]
  },
  {
   "cell_type": "code",
   "execution_count": 5,
   "metadata": {},
   "outputs": [
    {
     "name": "stdout",
     "output_type": "stream",
     "text": [
      "Global p-> 6\n",
      "Outer p-> 7\n",
      "Inner p-> 8\n",
      "Outer p-> 8\n",
      "Global p2-> 8\n"
     ]
    }
   ],
   "source": [
    "p=6\n",
    "print(\"Global p->\",p)#6\n",
    "def outer():\n",
    "    global p\n",
    "    p=7\n",
    "    print(\"Outer p->\",p)#7\n",
    "    def inner():\n",
    "        global p\n",
    "        p=8\n",
    "        print(\"Inner p->\",p)#8\n",
    "        return\n",
    "    inner()\n",
    "    print(\"Outer p->\",p)#8\n",
    "    return\n",
    "outer()\n",
    "print(\"Global p2->\",p)#8"
   ]
  },
  {
   "cell_type": "code",
   "execution_count": 6,
   "metadata": {},
   "outputs": [
    {
     "name": "stdout",
     "output_type": "stream",
     "text": [
      "Global p-> 6\n",
      "Outer p-> 7\n",
      "Inner p-> 8\n",
      "Outer p-> 8\n",
      "Global p2-> 6\n"
     ]
    }
   ],
   "source": [
    "p=6\n",
    "print(\"Global p->\",p)#6\n",
    "def outer():\n",
    "    p=7\n",
    "    print(\"Outer p->\",p)#7\n",
    "    def inner():\n",
    "        nonlocal p\n",
    "        p=8\n",
    "        print(\"Inner p->\",p)#8\n",
    "        return\n",
    "    inner()\n",
    "    print(\"Outer p->\",p)#8\n",
    "    return\n",
    "outer()\n",
    "print(\"Global p2->\",p)#6"
   ]
  },
  {
   "cell_type": "code",
   "execution_count": 7,
   "metadata": {},
   "outputs": [
    {
     "name": "stdout",
     "output_type": "stream",
     "text": [
      "[1, 4, 9]\n"
     ]
    }
   ],
   "source": [
    "l=[1,2,3]\n",
    "def sq(x):\n",
    "    return x*x\n",
    "res=list(map(sq,l))\n",
    "print(res)"
   ]
  },
  {
   "cell_type": "code",
   "execution_count": 8,
   "metadata": {},
   "outputs": [
    {
     "name": "stdout",
     "output_type": "stream",
     "text": [
      "[1, 4, 9]\n"
     ]
    }
   ],
   "source": [
    "l=[1,2,3]\n",
    "x=list(map(lambda a:a*a,l))\n",
    "print(x)"
   ]
  },
  {
   "cell_type": "code",
   "execution_count": 9,
   "metadata": {},
   "outputs": [
    {
     "name": "stdout",
     "output_type": "stream",
     "text": [
      "[1, 2, 6, 24, 120]\n"
     ]
    }
   ],
   "source": [
    "import math\n",
    "l=[1,2,3,4,5]\n",
    "x=list(map(lambda a:math.factorial(a),l))\n",
    "print(x)"
   ]
  },
  {
   "cell_type": "code",
   "execution_count": 10,
   "metadata": {},
   "outputs": [
    {
     "name": "stdout",
     "output_type": "stream",
     "text": [
      "5\n",
      "2\n",
      "4\n",
      "B 5\n",
      "5\n",
      "G 1\n",
      "9\n",
      "B 3\n",
      "6\n",
      "B 8\n",
      "8\n",
      "G "
     ]
    }
   ],
   "source": [
    "n=int(input())\n",
    "for i in range(n):\n",
    "    x=input()\n",
    "    y=input()\n",
    "    for m in x:\n",
    "        for z in y:\n",
    "            if z==m:\n",
    "                print('G',end=' ')\n",
    "                break\n",
    "            else:\n",
    "                print('B',end=' ')\n",
    "                break"
   ]
  },
  {
   "cell_type": "code",
   "execution_count": 11,
   "metadata": {},
   "outputs": [
    {
     "name": "stdout",
     "output_type": "stream",
     "text": [
      "2\n",
      "2,3\n",
      "4,3\n",
      "B B B B G B B B G 5,7\n",
      "8,9\n",
      "B B B B G B B B B "
     ]
    }
   ],
   "source": [
    "n=int(input())\n",
    "def compare(x,y):\n",
    "    for i in x:\n",
    "        for j in y:\n",
    "            if i==j:\n",
    "                print('G',end=' ')\n",
    "            else:\n",
    "                print('B',end=' ')\n",
    "    return\n",
    "for i in range(n):\n",
    "    compare(input(),input())"
   ]
  },
  {
   "cell_type": "code",
   "execution_count": 12,
   "metadata": {},
   "outputs": [
    {
     "name": "stdout",
     "output_type": "stream",
     "text": [
      "3\n",
      "ABCDE\n",
      "EDCBA\n",
      "BBGBB\n",
      "ROUND\n",
      "RINGS\n",
      "GBBBB\n",
      "START\n",
      "STUNT\n",
      "GGBBG\n"
     ]
    }
   ],
   "source": [
    "n=int(input())\n",
    "def compare():\n",
    "    x=[i for i in input()]\n",
    "    y=[i for i in input()]\n",
    "    for i in range(0,5):\n",
    "        if (x[i]==y[i]):\n",
    "            print('G',end='')\n",
    "        else:\n",
    "            print('B',end='')\n",
    "    print()\n",
    "    return\n",
    "for i in range(n):\n",
    "    compare()"
   ]
  },
  {
   "cell_type": "code",
   "execution_count": 13,
   "metadata": {},
   "outputs": [
    {
     "name": "stdout",
     "output_type": "stream",
     "text": [
      "3\n",
      "2 2\n",
      "00\n",
      "0000\n"
     ]
    }
   ],
   "source": [
    "n=int(input())\n",
    "x,y=map(int,input().split())\n",
    "a=input()\n",
    "a=a*x\n",
    "print(a)"
   ]
  },
  {
   "cell_type": "code",
   "execution_count": 14,
   "metadata": {},
   "outputs": [
    {
     "name": "stdout",
     "output_type": "stream",
     "text": [
      "1\n",
      "3\n",
      "101010\n",
      "0\n"
     ]
    }
   ],
   "source": [
    "n=int(input())\n",
    "def geting():\n",
    "    x=int(input())\n",
    "    count=0\n",
    "    l1=input()\n",
    "    for z in range(x-1):\n",
    "        if (l1[z]==l1[z+1]):\n",
    "            count+=1\n",
    "    print(count)\n",
    "    count=0\n",
    "    return\n",
    "for i in range(n):\n",
    "    geting()"
   ]
  }
 ],
 "metadata": {
  "kernelspec": {
   "display_name": "Python 3",
   "language": "python",
   "name": "python3"
  },
  "language_info": {
   "codemirror_mode": {
    "name": "ipython",
    "version": 3
   },
   "file_extension": ".py",
   "mimetype": "text/x-python",
   "name": "python",
   "nbconvert_exporter": "python",
   "pygments_lexer": "ipython3",
   "version": "3.8.3"
  }
 },
 "nbformat": 4,
 "nbformat_minor": 4
}
