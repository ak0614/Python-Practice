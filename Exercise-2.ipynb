{
 "cells": [
  {
   "cell_type": "code",
   "execution_count": 1,
   "metadata": {},
   "outputs": [
    {
     "name": "stdout",
     "output_type": "stream",
     "text": [
      "2\n",
      "7 1\n",
      "6\n",
      "10 8\n",
      "2\n"
     ]
    }
   ],
   "source": [
    "n=int(input())\n",
    "for i in range(n):\n",
    "    b,a=map(int,input().split())\n",
    "    print(b-a)"
   ]
  },
  {
   "cell_type": "code",
   "execution_count": 2,
   "metadata": {},
   "outputs": [
    {
     "name": "stdout",
     "output_type": "stream",
     "text": [
      "2\n",
      "1 2 5\n",
      "YES\n",
      "1 1 1\n",
      "NO\n"
     ]
    }
   ],
   "source": [
    "n=int(input())\n",
    "for i in range(n):\n",
    "    c,b,a=map(int,input().split())\n",
    "    if(a==c or b==c or a==b):\n",
    "        print(\"NO\")\n",
    "    else:\n",
    "        print(\"YES\")"
   ]
  },
  {
   "cell_type": "code",
   "execution_count": 3,
   "metadata": {},
   "outputs": [
    {
     "name": "stdout",
     "output_type": "stream",
     "text": [
      "3\n",
      "1 5\n",
      "2\n",
      "3 6\n",
      "5\n",
      "2 5\n",
      "3\n"
     ]
    }
   ],
   "source": [
    "n=int(input())\n",
    "pcs=0\n",
    "for i in range(n):\n",
    "    b,a=map(int,input().split())\n",
    "    pcs=b*a//4\n",
    "    if (b*a%4==0):\n",
    "        print(pcs)\n",
    "    else:\n",
    "        print(pcs+1)"
   ]
  },
  {
   "cell_type": "code",
   "execution_count": 4,
   "metadata": {},
   "outputs": [
    {
     "name": "stdout",
     "output_type": "stream",
     "text": [
      "2\n",
      "35 40 25\n",
      "YES\n",
      "23 47 33\n",
      "YES\n"
     ]
    }
   ],
   "source": [
    "n=int(input())\n",
    "for i in range(n):\n",
    "    c,b,a=map(int,input().split())\n",
    "    if(b>=a and c<=b):\n",
    "        print(\"YES\")\n",
    "    else:\n",
    "        print(\"NO\")"
   ]
  },
  {
   "cell_type": "code",
   "execution_count": 5,
   "metadata": {},
   "outputs": [
    {
     "name": "stdout",
     "output_type": "stream",
     "text": [
      "2\n",
      "3 3\n",
      "Yes\n",
      "3 2\n",
      "No\n"
     ]
    }
   ],
   "source": [
    "n=int(input())\n",
    "for i in range(n):\n",
    "    b,a=map(int,input().split())\n",
    "    if(b==a):\n",
    "        print(\"Yes\")\n",
    "    else:\n",
    "        print(\"No\")"
   ]
  },
  {
   "cell_type": "code",
   "execution_count": 6,
   "metadata": {},
   "outputs": [
    {
     "name": "stdout",
     "output_type": "stream",
     "text": [
      "2\n",
      "1 10\n",
      "3\n",
      "11 33\n",
      "8\n"
     ]
    }
   ],
   "source": [
    "n=int(input())\n",
    "sum=0\n",
    "for i in range(n):\n",
    "    b,a=map(int,input().split())\n",
    "    for j in range(b,a+1):\n",
    "        if(j%10==2 or j%10==3 or j%10==9):\n",
    "            sum+=1\n",
    "    print(sum)\n",
    "    sum=0"
   ]
  },
  {
   "cell_type": "markdown",
   "metadata": {},
   "source": [
    "# Strings"
   ]
  },
  {
   "cell_type": "code",
   "execution_count": 7,
   "metadata": {},
   "outputs": [
    {
     "name": "stdout",
     "output_type": "stream",
     "text": [
      "HELLO WORLD\n",
      "hello world\n",
      "Hello World\n",
      "Hello world\n"
     ]
    }
   ],
   "source": [
    "s='heLLo woRld'\n",
    "print(s.upper())\n",
    "print(s.lower())\n",
    "print(s.title())\n",
    "print(s.capitalize())"
   ]
  },
  {
   "cell_type": "code",
   "execution_count": 8,
   "metadata": {},
   "outputs": [
    {
     "name": "stdout",
     "output_type": "stream",
     "text": [
      "['__add__', '__class__', '__contains__', '__delattr__', '__dir__', '__doc__', '__eq__', '__format__', '__ge__', '__getattribute__', '__getitem__', '__getnewargs__', '__gt__', '__hash__', '__init__', '__init_subclass__', '__iter__', '__le__', '__len__', '__lt__', '__mod__', '__mul__', '__ne__', '__new__', '__reduce__', '__reduce_ex__', '__repr__', '__rmod__', '__rmul__', '__setattr__', '__sizeof__', '__str__', '__subclasshook__', 'capitalize', 'casefold', 'center', 'count', 'encode', 'endswith', 'expandtabs', 'find', 'format', 'format_map', 'index', 'isalnum', 'isalpha', 'isascii', 'isdecimal', 'isdigit', 'isidentifier', 'islower', 'isnumeric', 'isprintable', 'isspace', 'istitle', 'isupper', 'join', 'ljust', 'lower', 'lstrip', 'maketrans', 'partition', 'replace', 'rfind', 'rindex', 'rjust', 'rpartition', 'rsplit', 'rstrip', 'split', 'splitlines', 'startswith', 'strip', 'swapcase', 'title', 'translate', 'upper', 'zfill']\n"
     ]
    }
   ],
   "source": [
    "print(dir(str))"
   ]
  },
  {
   "cell_type": "code",
   "execution_count": 9,
   "metadata": {},
   "outputs": [
    {
     "data": {
      "text/plain": [
       "\"capitalize', 'casefold', 'center', 'count', 'encode', 'endswith', 'expandtabs', \\n'find', 'format', 'format_map', 'index', 'isalnum', 'isalpha', 'isascii', \\n'isdecimal', 'isdigit', 'isidentifier', 'islower', 'isnumeric', 'isprintable', \\n'isspace', 'istitle', 'isupper', 'join', 'ljust', 'lower', 'lstrip', 'maketrans', \\n'partition', 'replace', 'rfind', 'rindex', 'rjust', 'rpartition', 'rsplit', 'rstrip', \\n'split', 'splitlines', 'startswith', 'strip', 'swapcase', 'title', 'translate', 'upper', 'zfill\""
      ]
     },
     "execution_count": 9,
     "metadata": {},
     "output_type": "execute_result"
    }
   ],
   "source": [
    "'''capitalize', 'casefold', 'center', 'count', 'encode', 'endswith', 'expandtabs', \n",
    "'find', 'format', 'format_map', 'index', 'isalnum', 'isalpha', 'isascii', \n",
    "'isdecimal', 'isdigit', 'isidentifier', 'islower', 'isnumeric', 'isprintable', \n",
    "'isspace', 'istitle', 'isupper', 'join', 'ljust', 'lower', 'lstrip', 'maketrans', \n",
    "'partition', 'replace', 'rfind', 'rindex', 'rjust', 'rpartition', 'rsplit', 'rstrip', \n",
    "'split', 'splitlines', 'startswith', 'strip', 'swapcase', 'title', 'translate', 'upper', 'zfill'''"
   ]
  },
  {
   "cell_type": "code",
   "execution_count": 10,
   "metadata": {},
   "outputs": [
    {
     "name": "stdout",
     "output_type": "stream",
     "text": [
      ".. test ..\n",
      ".. test ..\n",
      ".. test------- ..\n",
      ".. *******test ..\n",
      ".. 0000000test ..\n",
      "['One', 'Two', 'Three Four Five']\n",
      "['One Two Three', 'Four', 'Five']\n"
     ]
    }
   ],
   "source": [
    "s='test'\n",
    "s1='one two three four five'\n",
    "s1=s1.title()\n",
    "print(\"..\",s,'..')\n",
    "print(\"..\",s.center(2,'$'),'..')\n",
    "print(\"..\",s.ljust(11,'-'),'..')\n",
    "print(\"..\",s.rjust(11,'*'),'..')\n",
    "print(\"..\",s.zfill(11),'..')\n",
    "print(s1.split(' ',2))\n",
    "print(s1.rsplit(' ',2))"
   ]
  },
  {
   "cell_type": "code",
   "execution_count": 11,
   "metadata": {},
   "outputs": [
    {
     "name": "stdout",
     "output_type": "stream",
     "text": [
      "-1\n",
      "-1\n",
      "0\n",
      "14\n",
      "3\n",
      "0\n"
     ]
    }
   ],
   "source": [
    "s='testing This string'\n",
    "print(s.rfind('z'))\n",
    "print(s.find('z'))\n",
    "print(s.index('t'))\n",
    "print(s.rindex('t'))\n",
    "print(s.count('t'))\n",
    "print(s.count('t',5,10))"
   ]
  },
  {
   "cell_type": "code",
   "execution_count": 12,
   "metadata": {},
   "outputs": [
    {
     "data": {
      "text/plain": [
       "'testing This string'"
      ]
     },
     "execution_count": 12,
     "metadata": {},
     "output_type": "execute_result"
    }
   ],
   "source": [
    "s.rstrip()"
   ]
  },
  {
   "cell_type": "code",
   "execution_count": 13,
   "metadata": {},
   "outputs": [
    {
     "data": {
      "text/plain": [
       "'TESTING tHIS STRING'"
      ]
     },
     "execution_count": 13,
     "metadata": {},
     "output_type": "execute_result"
    }
   ],
   "source": [
    "s.swapcase()"
   ]
  },
  {
   "cell_type": "code",
   "execution_count": 14,
   "metadata": {},
   "outputs": [
    {
     "data": {
      "text/plain": [
       "'tone two three four fiveeone two three four fivesone two three four fivet'"
      ]
     },
     "execution_count": 14,
     "metadata": {},
     "output_type": "execute_result"
    }
   ],
   "source": [
    "s='test'\n",
    "s1='one two three four five'\n",
    "s1.join(s)"
   ]
  }
 ],
 "metadata": {
  "kernelspec": {
   "display_name": "Python 3",
   "language": "python",
   "name": "python3"
  },
  "language_info": {
   "codemirror_mode": {
    "name": "ipython",
    "version": 3
   },
   "file_extension": ".py",
   "mimetype": "text/x-python",
   "name": "python",
   "nbconvert_exporter": "python",
   "pygments_lexer": "ipython3",
   "version": "3.8.3"
  }
 },
 "nbformat": 4,
 "nbformat_minor": 4
}
